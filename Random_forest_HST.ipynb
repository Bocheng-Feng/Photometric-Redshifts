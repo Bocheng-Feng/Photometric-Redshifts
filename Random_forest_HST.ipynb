{
 "cells": [
  {
   "cell_type": "code",
   "execution_count": null,
   "id": "4bce2796",
   "metadata": {},
   "outputs": [],
   "source": [
    "# arrays\n",
    "import numpy as np\n",
    "\n",
    "# unpacking files\n",
    "import tarfile\n",
    "\n",
    "# fits\n",
    "from astropy.io import fits\n",
    "from astropy.utils.data import download_file\n",
    "from astropy.table import Table\n",
    "\n",
    "# plotting\n",
    "from matplotlib import pyplot as plt\n",
    "\n",
    "# sklearn \n",
    "from sklearn.model_selection import train_test_split, RandomizedSearchCV, validation_curve\n",
    "from sklearn.model_selection import KFold, cross_validate\n",
    "from sklearn.preprocessing import LabelEncoder\n",
    "from sklearn.tree import DecisionTreeRegressor\n",
    "from sklearn.ensemble import RandomForestRegressor, GradientBoostingRegressor\n",
    "from sklearn.inspection import permutation_importance\n",
    "from sklearn.metrics import mean_squared_error, r2_score\n",
    "\n",
    "\n",
    "# from IPython import get_ipython\n",
    "# get_ipython().run_line_magic('matplotlib', 'notebook')\n"
   ]
  },
  {
   "cell_type": "code",
   "execution_count": null,
   "id": "d8e85edc",
   "metadata": {},
   "outputs": [],
   "source": [
    "tab = Table.read('3dhst_master.phot.v4.1.cat', format='ascii').to_pandas()\n",
    "tab = tab[tab.lmass > 9].copy()\n",
    "target = 'z_spec'\n",
    "\n",
    "features = [col for col in tab.columns if (col != target)]\n",
    "features = [col for col in features if (col != target) and (col != 'Av') and (col != 'lmass') and (col != 'z_peak') \n",
    "            and (col != 'flags') and (col != 'f140w_flag') and (col != 'star_flag') \n",
    "            and (col != 'use_phot') and (col != 'near_star')]\n",
    "tab = tab[(tab[target] > 0)] \n",
    "label_encoder = LabelEncoder()\n",
    "tab['field'] = label_encoder.fit_transform(tab['field'])\n",
    "errors = [col for col in features if (col[:1] == 'e') and (col[-1:] == 'W')]\n",
    "\n",
    "for error in errors:\n",
    "    tab[error] = np.where(tab[error] < -90, tab[error].median(), tab[error])\n",
    "           "
   ]
  }
 ],
 "metadata": {
  "language_info": {
   "name": "python"
  }
 },
 "nbformat": 4,
 "nbformat_minor": 5
}
